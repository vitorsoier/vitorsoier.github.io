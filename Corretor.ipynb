{
  "nbformat": 4,
  "nbformat_minor": 0,
  "metadata": {
    "colab": {
      "name": "Corretor.ipynb",
      "provenance": [],
      "collapsed_sections": [],
      "authorship_tag": "ABX9TyO0n4AW6Mv8SJimUqtRUE91",
      "include_colab_link": true
    },
    "kernelspec": {
      "name": "python3",
      "display_name": "Python 3"
    },
    "language_info": {
      "name": "python"
    }
  },
  "cells": [
    {
      "cell_type": "markdown",
      "metadata": {
        "id": "view-in-github",
        "colab_type": "text"
      },
      "source": [
        "<a href=\"https://colab.research.google.com/github/vitorsoier/vitorsoier.github.io/blob/main/Corretor.ipynb\" target=\"_parent\"><img src=\"https://colab.research.google.com/assets/colab-badge.svg\" alt=\"Open In Colab\"/></a>"
      ]
    },
    {
      "cell_type": "code",
      "metadata": {
        "id": "t0KDDZrvSdOD",
        "colab": {
          "base_uri": "https://localhost:8080/"
        },
        "outputId": "d924e4a5-7e04-4270-a4ca-7ef10af2baf7"
      },
      "source": [
        "import nltk \n",
        "import pandas as pd\n",
        "nltk.download('punkt')"
      ],
      "execution_count": 2,
      "outputs": [
        {
          "output_type": "stream",
          "name": "stdout",
          "text": [
            "[nltk_data] Downloading package punkt to /root/nltk_data...\n",
            "[nltk_data]   Unzipping tokenizers/punkt.zip.\n"
          ]
        },
        {
          "output_type": "execute_result",
          "data": {
            "text/plain": [
              "True"
            ]
          },
          "metadata": {},
          "execution_count": 2
        }
      ]
    },
    {
      "cell_type": "code",
      "metadata": {
        "id": "ibZ7Q2A7lsxv"
      },
      "source": [
        "def palavras_separadas(lista_tokens):\n",
        "  lista_palavras = []\n",
        "  for token in lista_tokens:\n",
        "    if token.isalpha():\n",
        "      lista_palavras.append(token)\n",
        "  return(lista_palavras)"
      ],
      "execution_count": 3,
      "outputs": []
    },
    {
      "cell_type": "code",
      "metadata": {
        "id": "jXSAER5so4nG"
      },
      "source": [
        "def normalizacao(lista_palavras):\n",
        "  palavras_minusculo = []\n",
        "  for palavra in lista_palavras:\n",
        "    palavras_minusculo.append(palavra.lower())\n",
        "  return palavras_minusculo"
      ],
      "execution_count": 4,
      "outputs": []
    },
    {
      "cell_type": "code",
      "metadata": {
        "id": "JDOfjAlRPiZm"
      },
      "source": [
        "with open(\"artigos.txt\", \"r\") as f:\n",
        "  artigos = f.read()"
      ],
      "execution_count": 5,
      "outputs": []
    },
    {
      "cell_type": "code",
      "metadata": {
        "colab": {
          "base_uri": "https://localhost:8080/"
        },
        "id": "C1L6TGgzmRcd",
        "outputId": "0c0461dd-4374-45c2-e723-56b1fe5055c6"
      },
      "source": [
        "palavras = palavras_separadas(nltk.tokenize.word_tokenize(artigos))\n",
        "palavras_minusculo = normalizacao(palavras)\n",
        "palavras_unicas = set(palavras_minusculo)\n",
        "len(palavras_unicas)"
      ],
      "execution_count": 6,
      "outputs": [
        {
          "output_type": "execute_result",
          "data": {
            "text/plain": [
              "17652"
            ]
          },
          "metadata": {},
          "execution_count": 6
        }
      ]
    },
    {
      "cell_type": "code",
      "metadata": {
        "id": "RLEln3z3id0f"
      },
      "source": [
        "def gerador_turbinado(palavras_geradas):\n",
        "    novas_palavras = []\n",
        "    for palavra in palavras_geradas:\n",
        "        novas_palavras += gerador_palavras(palavra)\n",
        "    return novas_palavras\n",
        "\n",
        "vocabulario = set(palavras_unicas)"
      ],
      "execution_count": 42,
      "outputs": []
    },
    {
      "cell_type": "code",
      "metadata": {
        "id": "kUsAZBwbqJla"
      },
      "source": [
        "frequencia = nltk.FreqDist(palavras_minusculo)\n",
        "def insere_letras(fatias):\n",
        "  novas_palavras = []\n",
        "  letras = 'abcdefghijklmnopqrstuvwxyzàáâãèéêìíîòóôõùúûç'\n",
        "  for esquerdo, direito in fatias:\n",
        "    for letra in letras:\n",
        "      novas_palavras.append(esquerdo + letra + direito)\n",
        "  return novas_palavras\n",
        "\n",
        "def gerador_palavras(palavra):\n",
        "  fatias = []\n",
        "  for i in range(len(palavra)+1):\n",
        "      fatias.append((palavra[:i], palavra[i:]))\n",
        "  palavra_gerada = insere_letras(fatias)\n",
        "  palavra_gerada += deleta_letras(fatias)\n",
        "  palavra_gerada += trocar(fatias)\n",
        "  palavra_gerada += altera_ordem(fatias)\n",
        "  return palavra_gerada\n",
        "\n",
        "def probabilidade(palavra_gerada):\n",
        "    \n",
        "    return frequencia[palavra_gerada]/len(palavras_unicas)\n",
        "\n",
        "def corretor (palavra):\n",
        "  palavra_gerada = gerador_palavras(palavra)\n",
        "  palavra_corrigida = max(palavra_gerada, key= probabilidade)\n",
        "  return palavra_corrigida"
      ],
      "execution_count": 69,
      "outputs": []
    },
    {
      "cell_type": "code",
      "metadata": {
        "id": "kXJexWznnErD"
      },
      "source": [
        "#Função que vai importar palavras escritas de forma correta e palavras com erro na escrita para avliarmos a qualidade do corretor\n",
        "def abre_teste(arquivo_teste):\n",
        "  teste= []\n",
        "  f = open(arquivo_teste, 'r')\n",
        "  for linha in f:\n",
        "    certo, errado = linha.split()\n",
        "    teste.append((certo, errado))\n",
        "  f.close()\n",
        "  return (teste)"
      ],
      "execution_count": 8,
      "outputs": []
    },
    {
      "cell_type": "code",
      "metadata": {
        "id": "2T9p7FXkweO-"
      },
      "source": [
        "#função que faz o calculo de quantas palavras nosso programa foi capaz de corrigir\n",
        "def avaliador(testes, vocabulario):\n",
        "    numero_palavras = len(testes)\n",
        "    acertou = 0\n",
        "    desconhecida = 0\n",
        "    for correta, errada in testes:\n",
        "        palavra_corrigida = corretor(errada)\n",
        "        desconhecida += (correta not in vocabulario)\n",
        "        if palavra_corrigida == correta:\n",
        "            acertou += 1\n",
        "    taxa_acerto = round(acertou*100/numero_palavras, 2)\n",
        "    taxa_desconhecida = round(desconhecida*100/numero_palavras, 2)\n",
        "    print(f\"{taxa_acerto}% de {numero_palavras} palavras, desconhecidas {taxa_desconhecida}%\")"
      ],
      "execution_count": 67,
      "outputs": []
    },
    {
      "cell_type": "code",
      "metadata": {
        "id": "vE7ipEeQ_M2-"
      },
      "source": [
        "#Visto que outro erro comum é digitar uma letra a mais vamos implementar a função deletar]\n",
        "def deleta_letras(fatias):\n",
        "  novas_palavras = []\n",
        "  for esquerdo, direito in fatias:\n",
        "    novas_palavras.append(esquerdo + direito[1:])\n",
        "  return novas_palavras"
      ],
      "execution_count": 11,
      "outputs": []
    },
    {
      "cell_type": "code",
      "metadata": {
        "colab": {
          "base_uri": "https://localhost:8080/"
        },
        "id": "mIG7TS2E8xH3",
        "outputId": "86beee78-3965-4297-f609-2bd98123c193"
      },
      "source": [
        "lista_teste = abre_teste(\"palavras.txt\")\n",
        "avaliador(lista_teste)"
      ],
      "execution_count": 12,
      "outputs": [
        {
          "output_type": "stream",
          "name": "stdout",
          "text": [
            "O corretor corrigiu 41.4% de 186 palavras\n"
          ]
        }
      ]
    },
    {
      "cell_type": "code",
      "metadata": {
        "id": "W6q7bntSKK2p"
      },
      "source": [
        "#Outro erro comum é digitar uma letra errada vamos implementar a função trocar\n",
        "def trocar(fatias):\n",
        "  novas_palavras = []\n",
        "  letras = 'abcdefghijklmnopqrstuvwxyzàáâãèéêìíîòóôõùúûç'\n",
        "  for esquerdo, direito in fatias:\n",
        "    for letra in letras:\n",
        "      novas_palavras.append(esquerdo + letra + direito[1:])\n",
        "  return novas_palavras"
      ],
      "execution_count": 17,
      "outputs": []
    },
    {
      "cell_type": "code",
      "metadata": {
        "id": "l_Ij33ELgvxP"
      },
      "source": [
        "#Outro erro comum é digitar em ordem errada vamos implementar a função trocar\n",
        "def altera_ordem(fatias):\n",
        "  novas_palavras = []\n",
        "  for esquerdo, direito in fatias:\n",
        "    if len(direito)>1:\n",
        "        novas_palavras.append(esquerdo + direito[1] + direito[0] + direito[2:])\n",
        "  return novas_palavras"
      ],
      "execution_count": 29,
      "outputs": []
    },
    {
      "cell_type": "code",
      "metadata": {
        "colab": {
          "base_uri": "https://localhost:8080/",
          "height": 52
        },
        "id": "KZJJm-M1gZix",
        "outputId": "5e1d1423-3d16-49d9-df36-bdcb7495ae41"
      },
      "source": [
        "avaliador(lista_teste, vocabulario)"
      ],
      "execution_count": 70,
      "outputs": [
        {
          "output_type": "stream",
          "name": "stdout",
          "text": [
            "76.34% de 186 palavras, desconhecidas 6.99%\n"
          ]
        },
        {
          "output_type": "execute_result",
          "data": {
            "application/vnd.google.colaboratory.intrinsic+json": {
              "type": "string"
            },
            "text/plain": [
              "'alóiigica'"
            ]
          },
          "metadata": {},
          "execution_count": 70
        }
      ]
    },
    {
      "cell_type": "code",
      "metadata": {
        "id": "OjT6rrtfqrne"
      },
      "source": [
        ""
      ],
      "execution_count": null,
      "outputs": []
    }
  ]
}